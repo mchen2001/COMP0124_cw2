{
 "cells": [
  {
   "cell_type": "code",
   "execution_count": 1,
   "metadata": {},
   "outputs": [],
   "source": [
    "# !pip3 install gymnasium"
   ]
  },
  {
   "cell_type": "code",
   "execution_count": 2,
   "metadata": {},
   "outputs": [],
   "source": [
    "# import gymnasium as gyms"
   ]
  },
  {
   "cell_type": "code",
   "execution_count": 3,
   "metadata": {},
   "outputs": [
    {
     "name": "stdout",
     "output_type": "stream",
     "text": [
      "Final Scores: Player 1 = 4, Player 2 = 3\n"
     ]
    }
   ],
   "source": [
    "import random\n",
    "\n",
    "tasks = {\n",
    "    \"easy\": {\"probability\": 1.0, \"payoff\": 1},\n",
    "    \"medium\": {\"probability\": 0.7, \"payoff\": 3},\n",
    "    \"hard\": {\"probability\": 0.3, \"payoff\": 6}\n",
    "}\n",
    "\n",
    "game_configs = {\n",
    "    \"basic\": {\"easy\": 4, \"medium\": 1, \"hard\": 1},\n",
    "    \"intermediate\": {\"easy\": 2, \"medium\": 2, \"hard\": 2},\n",
    "    \"hard\": {\"easy\": 1, \"medium\": 1, \"hard\": 4}\n",
    "}\n",
    "\n",
    "def generate_tasks(game_type, volume_level):\n",
    "    config = game_configs[game_type]\n",
    "    task_list = []\n",
    "    for task_type, count in config.items():\n",
    "        task_list.extend([task_type] * count * volume_level)\n",
    "    random.shuffle(task_list)\n",
    "    return task_list\n",
    "\n",
    "def simulate_game(task_list, strategy_func_1, strategy_func_2):\n",
    "    scores = [0, 0]\n",
    "\n",
    "    for player_id, strategy_func in enumerate([strategy_func_1, strategy_func_2], start=1):\n",
    "        for task in task_list:\n",
    "            if task is None:\n",
    "                continue\n",
    "\n",
    "            attempt = strategy_func(task, scores[player_id - 1])\n",
    "\n",
    "            if attempt:\n",
    "                if random.random() <= tasks[task][\"probability\"]:\n",
    "                    scores[player_id - 1] += tasks[task][\"payoff\"]\n",
    "                task_list[task_list.index(task)] = None\n",
    "\n",
    "    return scores\n",
    "\n",
    "def strategy_always_easy(task, current_score):\n",
    "    return task == \"easy\"\n",
    "\n",
    "def strategy_random(task, current_score):\n",
    "    return random.choice([True, False])\n",
    "\n",
    "task_list = generate_tasks(\"basic\", 1)\n",
    "\n",
    "scores = simulate_game(task_list, strategy_always_easy, strategy_random)\n",
    "print(f\"Final Scores: Player 1 = {scores[0]}, Player 2 = {scores[1]}\")\n"
   ]
  },
  {
   "cell_type": "code",
   "execution_count": null,
   "metadata": {},
   "outputs": [],
   "source": []
  }
 ],
 "metadata": {
  "kernelspec": {
   "display_name": "Python 3",
   "language": "python",
   "name": "python3"
  },
  "language_info": {
   "codemirror_mode": {
    "name": "ipython",
    "version": 3
   },
   "file_extension": ".py",
   "mimetype": "text/x-python",
   "name": "python",
   "nbconvert_exporter": "python",
   "pygments_lexer": "ipython3",
   "version": "3.10.6"
  }
 },
 "nbformat": 4,
 "nbformat_minor": 2
}
